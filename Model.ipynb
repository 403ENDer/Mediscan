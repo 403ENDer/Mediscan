{
  "cells": [
    {
      "cell_type": "markdown",
      "metadata": {
        "id": "view-in-github",
        "colab_type": "text"
      },
      "source": [
        "<a href=\"https://colab.research.google.com/github/403ENDer/Mediscan/blob/main/Model.ipynb\" target=\"_parent\"><img src=\"https://colab.research.google.com/assets/colab-badge.svg\" alt=\"Open In Colab\"/></a>"
      ]
    },
    {
      "cell_type": "code",
      "execution_count": null,
      "metadata": {
        "id": "ce4e6732-2ee4-4973-92fa-675eebd8444a"
      },
      "outputs": [],
      "source": [
        "import pandas as pd\n",
        "import numpy as np\n",
        "import os\n",
        "from PIL import Image\n",
        "from sklearn.model_selection import train_test_split\n",
        "from sklearn.preprocessing import LabelEncoder\n",
        "import tensorflow as tf\n",
        "from tensorflow.keras import layers, models\n",
        "from tensorflow.keras.preprocessing.image import ImageDataGenerator\n",
        "from sklearn.metrics import classification_report\n",
        "import warnings\n",
        "warnings.filterwarnings(action = \"ignore\")"
      ],
      "id": "ce4e6732-2ee4-4973-92fa-675eebd8444a"
    },
    {
      "cell_type": "code",
      "execution_count": null,
      "metadata": {
        "colab": {
          "base_uri": "https://localhost:8080/"
        },
        "id": "_g9FzCCCgc5l",
        "outputId": "1bbd5411-c63e-4d9c-cbf6-1a13b78bc5e5"
      },
      "outputs": [
        {
          "output_type": "stream",
          "name": "stdout",
          "text": [
            "Drive already mounted at /content/drive; to attempt to forcibly remount, call drive.mount(\"/content/drive\", force_remount=True).\n"
          ]
        }
      ],
      "source": [
        "from google.colab import drive\n",
        "drive.mount('/content/drive')"
      ],
      "id": "_g9FzCCCgc5l"
    },
    {
      "cell_type": "code",
      "execution_count": null,
      "metadata": {
        "colab": {
          "base_uri": "https://localhost:8080/"
        },
        "id": "aba642fe-cdea-4c57-9100-77c77f390c33",
        "outputId": "e37f9848-8a05-4b3e-ccf1-7c93fa7a7fd2"
      },
      "outputs": [
        {
          "output_type": "stream",
          "name": "stdout",
          "text": [
            "(400, 300)\n"
          ]
        }
      ],
      "source": [
        "# Load and preprocess images\n",
        "image_dir = \"/content/drive/MyDrive/Mediscan/Main_imagess\"\n",
        "image_list = []\n",
        "\n",
        "for filename in os.listdir(image_dir):\n",
        "    if filename.endswith(\".jpg\"):\n",
        "        filepath = os.path.join(image_dir, filename)\n",
        "        image = Image.open(filepath).resize((400, 300))\n",
        "        image_list.append({'Image': image, 'Filename': filename})\n",
        "\n",
        "df = pd.DataFrame(image_list)\n",
        "print(df['Image'][0].size)"
      ],
      "id": "aba642fe-cdea-4c57-9100-77c77f390c33"
    },
    {
      "cell_type": "code",
      "execution_count": null,
      "metadata": {
        "id": "26997e5b-ff7b-40b2-97e2-cc3a5cb07134"
      },
      "outputs": [],
      "source": [
        "drug_names = []\n",
        "for filename in df['Filename']:\n",
        "    drug_names.append(filename.split('_')[0])"
      ],
      "id": "26997e5b-ff7b-40b2-97e2-cc3a5cb07134"
    },
    {
      "cell_type": "code",
      "execution_count": null,
      "metadata": {
        "colab": {
          "base_uri": "https://localhost:8080/",
          "height": 206
        },
        "id": "-j3HREBnmS3V",
        "outputId": "1c07ee84-972d-47f1-94b6-841fd005c727"
      },
      "outputs": [
        {
          "output_type": "execute_result",
          "data": {
            "text/plain": [
              "                                               Image            Filename  \\\n",
              "0  <PIL.Image.Image image mode=RGB size=400x300 a...   Paracetamol_2.jpg   \n",
              "1  <PIL.Image.Image image mode=RGB size=400x300 a...   Paracetamol_1.jpg   \n",
              "2  <PIL.Image.Image image mode=RGB size=400x300 a...  Atorvastatin_2.jpg   \n",
              "3  <PIL.Image.Image image mode=RGB size=400x300 a...    Amlodipine_2.jpg   \n",
              "4  <PIL.Image.Image image mode=RGB size=400x300 a...   Amoxicillin_2.jpg   \n",
              "\n",
              "      drug_name  drug_name_label  \n",
              "0   Paracetamol                4  \n",
              "1   Paracetamol                4  \n",
              "2  Atorvastatin                2  \n",
              "3    Amlodipine                0  \n",
              "4   Amoxicillin                1  "
            ],
            "text/html": [
              "\n",
              "  <div id=\"df-96c7d568-ec19-478e-8a83-0918b2c8059a\" class=\"colab-df-container\">\n",
              "    <div>\n",
              "<style scoped>\n",
              "    .dataframe tbody tr th:only-of-type {\n",
              "        vertical-align: middle;\n",
              "    }\n",
              "\n",
              "    .dataframe tbody tr th {\n",
              "        vertical-align: top;\n",
              "    }\n",
              "\n",
              "    .dataframe thead th {\n",
              "        text-align: right;\n",
              "    }\n",
              "</style>\n",
              "<table border=\"1\" class=\"dataframe\">\n",
              "  <thead>\n",
              "    <tr style=\"text-align: right;\">\n",
              "      <th></th>\n",
              "      <th>Image</th>\n",
              "      <th>Filename</th>\n",
              "      <th>drug_name</th>\n",
              "      <th>drug_name_label</th>\n",
              "    </tr>\n",
              "  </thead>\n",
              "  <tbody>\n",
              "    <tr>\n",
              "      <th>0</th>\n",
              "      <td>&lt;PIL.Image.Image image mode=RGB size=400x300 a...</td>\n",
              "      <td>Paracetamol_2.jpg</td>\n",
              "      <td>Paracetamol</td>\n",
              "      <td>4</td>\n",
              "    </tr>\n",
              "    <tr>\n",
              "      <th>1</th>\n",
              "      <td>&lt;PIL.Image.Image image mode=RGB size=400x300 a...</td>\n",
              "      <td>Paracetamol_1.jpg</td>\n",
              "      <td>Paracetamol</td>\n",
              "      <td>4</td>\n",
              "    </tr>\n",
              "    <tr>\n",
              "      <th>2</th>\n",
              "      <td>&lt;PIL.Image.Image image mode=RGB size=400x300 a...</td>\n",
              "      <td>Atorvastatin_2.jpg</td>\n",
              "      <td>Atorvastatin</td>\n",
              "      <td>2</td>\n",
              "    </tr>\n",
              "    <tr>\n",
              "      <th>3</th>\n",
              "      <td>&lt;PIL.Image.Image image mode=RGB size=400x300 a...</td>\n",
              "      <td>Amlodipine_2.jpg</td>\n",
              "      <td>Amlodipine</td>\n",
              "      <td>0</td>\n",
              "    </tr>\n",
              "    <tr>\n",
              "      <th>4</th>\n",
              "      <td>&lt;PIL.Image.Image image mode=RGB size=400x300 a...</td>\n",
              "      <td>Amoxicillin_2.jpg</td>\n",
              "      <td>Amoxicillin</td>\n",
              "      <td>1</td>\n",
              "    </tr>\n",
              "  </tbody>\n",
              "</table>\n",
              "</div>\n",
              "    <div class=\"colab-df-buttons\">\n",
              "\n",
              "  <div class=\"colab-df-container\">\n",
              "    <button class=\"colab-df-convert\" onclick=\"convertToInteractive('df-96c7d568-ec19-478e-8a83-0918b2c8059a')\"\n",
              "            title=\"Convert this dataframe to an interactive table.\"\n",
              "            style=\"display:none;\">\n",
              "\n",
              "  <svg xmlns=\"http://www.w3.org/2000/svg\" height=\"24px\" viewBox=\"0 -960 960 960\">\n",
              "    <path d=\"M120-120v-720h720v720H120Zm60-500h600v-160H180v160Zm220 220h160v-160H400v160Zm0 220h160v-160H400v160ZM180-400h160v-160H180v160Zm440 0h160v-160H620v160ZM180-180h160v-160H180v160Zm440 0h160v-160H620v160Z\"/>\n",
              "  </svg>\n",
              "    </button>\n",
              "\n",
              "  <style>\n",
              "    .colab-df-container {\n",
              "      display:flex;\n",
              "      gap: 12px;\n",
              "    }\n",
              "\n",
              "    .colab-df-convert {\n",
              "      background-color: #E8F0FE;\n",
              "      border: none;\n",
              "      border-radius: 50%;\n",
              "      cursor: pointer;\n",
              "      display: none;\n",
              "      fill: #1967D2;\n",
              "      height: 32px;\n",
              "      padding: 0 0 0 0;\n",
              "      width: 32px;\n",
              "    }\n",
              "\n",
              "    .colab-df-convert:hover {\n",
              "      background-color: #E2EBFA;\n",
              "      box-shadow: 0px 1px 2px rgba(60, 64, 67, 0.3), 0px 1px 3px 1px rgba(60, 64, 67, 0.15);\n",
              "      fill: #174EA6;\n",
              "    }\n",
              "\n",
              "    .colab-df-buttons div {\n",
              "      margin-bottom: 4px;\n",
              "    }\n",
              "\n",
              "    [theme=dark] .colab-df-convert {\n",
              "      background-color: #3B4455;\n",
              "      fill: #D2E3FC;\n",
              "    }\n",
              "\n",
              "    [theme=dark] .colab-df-convert:hover {\n",
              "      background-color: #434B5C;\n",
              "      box-shadow: 0px 1px 3px 1px rgba(0, 0, 0, 0.15);\n",
              "      filter: drop-shadow(0px 1px 2px rgba(0, 0, 0, 0.3));\n",
              "      fill: #FFFFFF;\n",
              "    }\n",
              "  </style>\n",
              "\n",
              "    <script>\n",
              "      const buttonEl =\n",
              "        document.querySelector('#df-96c7d568-ec19-478e-8a83-0918b2c8059a button.colab-df-convert');\n",
              "      buttonEl.style.display =\n",
              "        google.colab.kernel.accessAllowed ? 'block' : 'none';\n",
              "\n",
              "      async function convertToInteractive(key) {\n",
              "        const element = document.querySelector('#df-96c7d568-ec19-478e-8a83-0918b2c8059a');\n",
              "        const dataTable =\n",
              "          await google.colab.kernel.invokeFunction('convertToInteractive',\n",
              "                                                    [key], {});\n",
              "        if (!dataTable) return;\n",
              "\n",
              "        const docLinkHtml = 'Like what you see? Visit the ' +\n",
              "          '<a target=\"_blank\" href=https://colab.research.google.com/notebooks/data_table.ipynb>data table notebook</a>'\n",
              "          + ' to learn more about interactive tables.';\n",
              "        element.innerHTML = '';\n",
              "        dataTable['output_type'] = 'display_data';\n",
              "        await google.colab.output.renderOutput(dataTable, element);\n",
              "        const docLink = document.createElement('div');\n",
              "        docLink.innerHTML = docLinkHtml;\n",
              "        element.appendChild(docLink);\n",
              "      }\n",
              "    </script>\n",
              "  </div>\n",
              "\n",
              "\n",
              "<div id=\"df-75c95b9b-6929-4fc9-aad6-c503a2b80c03\">\n",
              "  <button class=\"colab-df-quickchart\" onclick=\"quickchart('df-75c95b9b-6929-4fc9-aad6-c503a2b80c03')\"\n",
              "            title=\"Suggest charts\"\n",
              "            style=\"display:none;\">\n",
              "\n",
              "<svg xmlns=\"http://www.w3.org/2000/svg\" height=\"24px\"viewBox=\"0 0 24 24\"\n",
              "     width=\"24px\">\n",
              "    <g>\n",
              "        <path d=\"M19 3H5c-1.1 0-2 .9-2 2v14c0 1.1.9 2 2 2h14c1.1 0 2-.9 2-2V5c0-1.1-.9-2-2-2zM9 17H7v-7h2v7zm4 0h-2V7h2v10zm4 0h-2v-4h2v4z\"/>\n",
              "    </g>\n",
              "</svg>\n",
              "  </button>\n",
              "\n",
              "<style>\n",
              "  .colab-df-quickchart {\n",
              "      --bg-color: #E8F0FE;\n",
              "      --fill-color: #1967D2;\n",
              "      --hover-bg-color: #E2EBFA;\n",
              "      --hover-fill-color: #174EA6;\n",
              "      --disabled-fill-color: #AAA;\n",
              "      --disabled-bg-color: #DDD;\n",
              "  }\n",
              "\n",
              "  [theme=dark] .colab-df-quickchart {\n",
              "      --bg-color: #3B4455;\n",
              "      --fill-color: #D2E3FC;\n",
              "      --hover-bg-color: #434B5C;\n",
              "      --hover-fill-color: #FFFFFF;\n",
              "      --disabled-bg-color: #3B4455;\n",
              "      --disabled-fill-color: #666;\n",
              "  }\n",
              "\n",
              "  .colab-df-quickchart {\n",
              "    background-color: var(--bg-color);\n",
              "    border: none;\n",
              "    border-radius: 50%;\n",
              "    cursor: pointer;\n",
              "    display: none;\n",
              "    fill: var(--fill-color);\n",
              "    height: 32px;\n",
              "    padding: 0;\n",
              "    width: 32px;\n",
              "  }\n",
              "\n",
              "  .colab-df-quickchart:hover {\n",
              "    background-color: var(--hover-bg-color);\n",
              "    box-shadow: 0 1px 2px rgba(60, 64, 67, 0.3), 0 1px 3px 1px rgba(60, 64, 67, 0.15);\n",
              "    fill: var(--button-hover-fill-color);\n",
              "  }\n",
              "\n",
              "  .colab-df-quickchart-complete:disabled,\n",
              "  .colab-df-quickchart-complete:disabled:hover {\n",
              "    background-color: var(--disabled-bg-color);\n",
              "    fill: var(--disabled-fill-color);\n",
              "    box-shadow: none;\n",
              "  }\n",
              "\n",
              "  .colab-df-spinner {\n",
              "    border: 2px solid var(--fill-color);\n",
              "    border-color: transparent;\n",
              "    border-bottom-color: var(--fill-color);\n",
              "    animation:\n",
              "      spin 1s steps(1) infinite;\n",
              "  }\n",
              "\n",
              "  @keyframes spin {\n",
              "    0% {\n",
              "      border-color: transparent;\n",
              "      border-bottom-color: var(--fill-color);\n",
              "      border-left-color: var(--fill-color);\n",
              "    }\n",
              "    20% {\n",
              "      border-color: transparent;\n",
              "      border-left-color: var(--fill-color);\n",
              "      border-top-color: var(--fill-color);\n",
              "    }\n",
              "    30% {\n",
              "      border-color: transparent;\n",
              "      border-left-color: var(--fill-color);\n",
              "      border-top-color: var(--fill-color);\n",
              "      border-right-color: var(--fill-color);\n",
              "    }\n",
              "    40% {\n",
              "      border-color: transparent;\n",
              "      border-right-color: var(--fill-color);\n",
              "      border-top-color: var(--fill-color);\n",
              "    }\n",
              "    60% {\n",
              "      border-color: transparent;\n",
              "      border-right-color: var(--fill-color);\n",
              "    }\n",
              "    80% {\n",
              "      border-color: transparent;\n",
              "      border-right-color: var(--fill-color);\n",
              "      border-bottom-color: var(--fill-color);\n",
              "    }\n",
              "    90% {\n",
              "      border-color: transparent;\n",
              "      border-bottom-color: var(--fill-color);\n",
              "    }\n",
              "  }\n",
              "</style>\n",
              "\n",
              "  <script>\n",
              "    async function quickchart(key) {\n",
              "      const quickchartButtonEl =\n",
              "        document.querySelector('#' + key + ' button');\n",
              "      quickchartButtonEl.disabled = true;  // To prevent multiple clicks.\n",
              "      quickchartButtonEl.classList.add('colab-df-spinner');\n",
              "      try {\n",
              "        const charts = await google.colab.kernel.invokeFunction(\n",
              "            'suggestCharts', [key], {});\n",
              "      } catch (error) {\n",
              "        console.error('Error during call to suggestCharts:', error);\n",
              "      }\n",
              "      quickchartButtonEl.classList.remove('colab-df-spinner');\n",
              "      quickchartButtonEl.classList.add('colab-df-quickchart-complete');\n",
              "    }\n",
              "    (() => {\n",
              "      let quickchartButtonEl =\n",
              "        document.querySelector('#df-75c95b9b-6929-4fc9-aad6-c503a2b80c03 button');\n",
              "      quickchartButtonEl.style.display =\n",
              "        google.colab.kernel.accessAllowed ? 'block' : 'none';\n",
              "    })();\n",
              "  </script>\n",
              "</div>\n",
              "    </div>\n",
              "  </div>\n"
            ]
          },
          "metadata": {},
          "execution_count": 5
        }
      ],
      "source": [
        "df['drug_name'] = drug_names\n",
        "encoder = LabelEncoder()\n",
        "df['drug_name_label'] = encoder.fit_transform(df['drug_name'])\n",
        "df.head()"
      ],
      "id": "-j3HREBnmS3V"
    },
    {
      "cell_type": "code",
      "execution_count": null,
      "metadata": {
        "colab": {
          "base_uri": "https://localhost:8080/"
        },
        "id": "2588199e-cc59-481f-a3f9-020f5529a1f9",
        "outputId": "7fef70d2-c9ea-4e95-8203-4241f254a1ed"
      },
      "outputs": [
        {
          "output_type": "execute_result",
          "data": {
            "text/plain": [
              "(10, 4)"
            ]
          },
          "metadata": {},
          "execution_count": 6
        }
      ],
      "source": [
        "df.shape"
      ],
      "id": "2588199e-cc59-481f-a3f9-020f5529a1f9"
    },
    {
      "cell_type": "code",
      "execution_count": null,
      "metadata": {
        "colab": {
          "base_uri": "https://localhost:8080/",
          "height": 363
        },
        "id": "ecb6e1a4-3934-45a3-baad-d6c5650c89d7",
        "outputId": "d363b148-8228-47a8-d7ca-5c3e0241cffe"
      },
      "outputs": [
        {
          "output_type": "execute_result",
          "data": {
            "text/plain": [
              "                                               Image            Filename  \\\n",
              "0  <PIL.Image.Image image mode=RGB size=400x300 a...   Paracetamol_2.jpg   \n",
              "1  <PIL.Image.Image image mode=RGB size=400x300 a...   Paracetamol_1.jpg   \n",
              "2  <PIL.Image.Image image mode=RGB size=400x300 a...  Atorvastatin_2.jpg   \n",
              "3  <PIL.Image.Image image mode=RGB size=400x300 a...    Amlodipine_2.jpg   \n",
              "4  <PIL.Image.Image image mode=RGB size=400x300 a...   Amoxicillin_2.jpg   \n",
              "5  <PIL.Image.Image image mode=RGB size=400x300 a...  Atorvastatin_1.jpg   \n",
              "6  <PIL.Image.Image image mode=RGB size=400x300 a...    Amlodipine_1.jpg   \n",
              "7  <PIL.Image.Image image mode=RGB size=400x300 a...     Cetrizine_1.jpg   \n",
              "8  <PIL.Image.Image image mode=RGB size=400x300 a...   Amoxicillin_1.jpg   \n",
              "9  <PIL.Image.Image image mode=RGB size=400x300 a...     Cetrizine_2.jpg   \n",
              "\n",
              "      drug_name  drug_name_label  \n",
              "0   Paracetamol                4  \n",
              "1   Paracetamol                4  \n",
              "2  Atorvastatin                2  \n",
              "3    Amlodipine                0  \n",
              "4   Amoxicillin                1  \n",
              "5  Atorvastatin                2  \n",
              "6    Amlodipine                0  \n",
              "7     Cetrizine                3  \n",
              "8   Amoxicillin                1  \n",
              "9     Cetrizine                3  "
            ],
            "text/html": [
              "\n",
              "  <div id=\"df-66b85c65-890a-4365-bcb5-5c12f8b378f1\" class=\"colab-df-container\">\n",
              "    <div>\n",
              "<style scoped>\n",
              "    .dataframe tbody tr th:only-of-type {\n",
              "        vertical-align: middle;\n",
              "    }\n",
              "\n",
              "    .dataframe tbody tr th {\n",
              "        vertical-align: top;\n",
              "    }\n",
              "\n",
              "    .dataframe thead th {\n",
              "        text-align: right;\n",
              "    }\n",
              "</style>\n",
              "<table border=\"1\" class=\"dataframe\">\n",
              "  <thead>\n",
              "    <tr style=\"text-align: right;\">\n",
              "      <th></th>\n",
              "      <th>Image</th>\n",
              "      <th>Filename</th>\n",
              "      <th>drug_name</th>\n",
              "      <th>drug_name_label</th>\n",
              "    </tr>\n",
              "  </thead>\n",
              "  <tbody>\n",
              "    <tr>\n",
              "      <th>0</th>\n",
              "      <td>&lt;PIL.Image.Image image mode=RGB size=400x300 a...</td>\n",
              "      <td>Paracetamol_2.jpg</td>\n",
              "      <td>Paracetamol</td>\n",
              "      <td>4</td>\n",
              "    </tr>\n",
              "    <tr>\n",
              "      <th>1</th>\n",
              "      <td>&lt;PIL.Image.Image image mode=RGB size=400x300 a...</td>\n",
              "      <td>Paracetamol_1.jpg</td>\n",
              "      <td>Paracetamol</td>\n",
              "      <td>4</td>\n",
              "    </tr>\n",
              "    <tr>\n",
              "      <th>2</th>\n",
              "      <td>&lt;PIL.Image.Image image mode=RGB size=400x300 a...</td>\n",
              "      <td>Atorvastatin_2.jpg</td>\n",
              "      <td>Atorvastatin</td>\n",
              "      <td>2</td>\n",
              "    </tr>\n",
              "    <tr>\n",
              "      <th>3</th>\n",
              "      <td>&lt;PIL.Image.Image image mode=RGB size=400x300 a...</td>\n",
              "      <td>Amlodipine_2.jpg</td>\n",
              "      <td>Amlodipine</td>\n",
              "      <td>0</td>\n",
              "    </tr>\n",
              "    <tr>\n",
              "      <th>4</th>\n",
              "      <td>&lt;PIL.Image.Image image mode=RGB size=400x300 a...</td>\n",
              "      <td>Amoxicillin_2.jpg</td>\n",
              "      <td>Amoxicillin</td>\n",
              "      <td>1</td>\n",
              "    </tr>\n",
              "    <tr>\n",
              "      <th>5</th>\n",
              "      <td>&lt;PIL.Image.Image image mode=RGB size=400x300 a...</td>\n",
              "      <td>Atorvastatin_1.jpg</td>\n",
              "      <td>Atorvastatin</td>\n",
              "      <td>2</td>\n",
              "    </tr>\n",
              "    <tr>\n",
              "      <th>6</th>\n",
              "      <td>&lt;PIL.Image.Image image mode=RGB size=400x300 a...</td>\n",
              "      <td>Amlodipine_1.jpg</td>\n",
              "      <td>Amlodipine</td>\n",
              "      <td>0</td>\n",
              "    </tr>\n",
              "    <tr>\n",
              "      <th>7</th>\n",
              "      <td>&lt;PIL.Image.Image image mode=RGB size=400x300 a...</td>\n",
              "      <td>Cetrizine_1.jpg</td>\n",
              "      <td>Cetrizine</td>\n",
              "      <td>3</td>\n",
              "    </tr>\n",
              "    <tr>\n",
              "      <th>8</th>\n",
              "      <td>&lt;PIL.Image.Image image mode=RGB size=400x300 a...</td>\n",
              "      <td>Amoxicillin_1.jpg</td>\n",
              "      <td>Amoxicillin</td>\n",
              "      <td>1</td>\n",
              "    </tr>\n",
              "    <tr>\n",
              "      <th>9</th>\n",
              "      <td>&lt;PIL.Image.Image image mode=RGB size=400x300 a...</td>\n",
              "      <td>Cetrizine_2.jpg</td>\n",
              "      <td>Cetrizine</td>\n",
              "      <td>3</td>\n",
              "    </tr>\n",
              "  </tbody>\n",
              "</table>\n",
              "</div>\n",
              "    <div class=\"colab-df-buttons\">\n",
              "\n",
              "  <div class=\"colab-df-container\">\n",
              "    <button class=\"colab-df-convert\" onclick=\"convertToInteractive('df-66b85c65-890a-4365-bcb5-5c12f8b378f1')\"\n",
              "            title=\"Convert this dataframe to an interactive table.\"\n",
              "            style=\"display:none;\">\n",
              "\n",
              "  <svg xmlns=\"http://www.w3.org/2000/svg\" height=\"24px\" viewBox=\"0 -960 960 960\">\n",
              "    <path d=\"M120-120v-720h720v720H120Zm60-500h600v-160H180v160Zm220 220h160v-160H400v160Zm0 220h160v-160H400v160ZM180-400h160v-160H180v160Zm440 0h160v-160H620v160ZM180-180h160v-160H180v160Zm440 0h160v-160H620v160Z\"/>\n",
              "  </svg>\n",
              "    </button>\n",
              "\n",
              "  <style>\n",
              "    .colab-df-container {\n",
              "      display:flex;\n",
              "      gap: 12px;\n",
              "    }\n",
              "\n",
              "    .colab-df-convert {\n",
              "      background-color: #E8F0FE;\n",
              "      border: none;\n",
              "      border-radius: 50%;\n",
              "      cursor: pointer;\n",
              "      display: none;\n",
              "      fill: #1967D2;\n",
              "      height: 32px;\n",
              "      padding: 0 0 0 0;\n",
              "      width: 32px;\n",
              "    }\n",
              "\n",
              "    .colab-df-convert:hover {\n",
              "      background-color: #E2EBFA;\n",
              "      box-shadow: 0px 1px 2px rgba(60, 64, 67, 0.3), 0px 1px 3px 1px rgba(60, 64, 67, 0.15);\n",
              "      fill: #174EA6;\n",
              "    }\n",
              "\n",
              "    .colab-df-buttons div {\n",
              "      margin-bottom: 4px;\n",
              "    }\n",
              "\n",
              "    [theme=dark] .colab-df-convert {\n",
              "      background-color: #3B4455;\n",
              "      fill: #D2E3FC;\n",
              "    }\n",
              "\n",
              "    [theme=dark] .colab-df-convert:hover {\n",
              "      background-color: #434B5C;\n",
              "      box-shadow: 0px 1px 3px 1px rgba(0, 0, 0, 0.15);\n",
              "      filter: drop-shadow(0px 1px 2px rgba(0, 0, 0, 0.3));\n",
              "      fill: #FFFFFF;\n",
              "    }\n",
              "  </style>\n",
              "\n",
              "    <script>\n",
              "      const buttonEl =\n",
              "        document.querySelector('#df-66b85c65-890a-4365-bcb5-5c12f8b378f1 button.colab-df-convert');\n",
              "      buttonEl.style.display =\n",
              "        google.colab.kernel.accessAllowed ? 'block' : 'none';\n",
              "\n",
              "      async function convertToInteractive(key) {\n",
              "        const element = document.querySelector('#df-66b85c65-890a-4365-bcb5-5c12f8b378f1');\n",
              "        const dataTable =\n",
              "          await google.colab.kernel.invokeFunction('convertToInteractive',\n",
              "                                                    [key], {});\n",
              "        if (!dataTable) return;\n",
              "\n",
              "        const docLinkHtml = 'Like what you see? Visit the ' +\n",
              "          '<a target=\"_blank\" href=https://colab.research.google.com/notebooks/data_table.ipynb>data table notebook</a>'\n",
              "          + ' to learn more about interactive tables.';\n",
              "        element.innerHTML = '';\n",
              "        dataTable['output_type'] = 'display_data';\n",
              "        await google.colab.output.renderOutput(dataTable, element);\n",
              "        const docLink = document.createElement('div');\n",
              "        docLink.innerHTML = docLinkHtml;\n",
              "        element.appendChild(docLink);\n",
              "      }\n",
              "    </script>\n",
              "  </div>\n",
              "\n",
              "\n",
              "<div id=\"df-1f9cb77b-c872-49a1-9835-924ba4b69cfd\">\n",
              "  <button class=\"colab-df-quickchart\" onclick=\"quickchart('df-1f9cb77b-c872-49a1-9835-924ba4b69cfd')\"\n",
              "            title=\"Suggest charts\"\n",
              "            style=\"display:none;\">\n",
              "\n",
              "<svg xmlns=\"http://www.w3.org/2000/svg\" height=\"24px\"viewBox=\"0 0 24 24\"\n",
              "     width=\"24px\">\n",
              "    <g>\n",
              "        <path d=\"M19 3H5c-1.1 0-2 .9-2 2v14c0 1.1.9 2 2 2h14c1.1 0 2-.9 2-2V5c0-1.1-.9-2-2-2zM9 17H7v-7h2v7zm4 0h-2V7h2v10zm4 0h-2v-4h2v4z\"/>\n",
              "    </g>\n",
              "</svg>\n",
              "  </button>\n",
              "\n",
              "<style>\n",
              "  .colab-df-quickchart {\n",
              "      --bg-color: #E8F0FE;\n",
              "      --fill-color: #1967D2;\n",
              "      --hover-bg-color: #E2EBFA;\n",
              "      --hover-fill-color: #174EA6;\n",
              "      --disabled-fill-color: #AAA;\n",
              "      --disabled-bg-color: #DDD;\n",
              "  }\n",
              "\n",
              "  [theme=dark] .colab-df-quickchart {\n",
              "      --bg-color: #3B4455;\n",
              "      --fill-color: #D2E3FC;\n",
              "      --hover-bg-color: #434B5C;\n",
              "      --hover-fill-color: #FFFFFF;\n",
              "      --disabled-bg-color: #3B4455;\n",
              "      --disabled-fill-color: #666;\n",
              "  }\n",
              "\n",
              "  .colab-df-quickchart {\n",
              "    background-color: var(--bg-color);\n",
              "    border: none;\n",
              "    border-radius: 50%;\n",
              "    cursor: pointer;\n",
              "    display: none;\n",
              "    fill: var(--fill-color);\n",
              "    height: 32px;\n",
              "    padding: 0;\n",
              "    width: 32px;\n",
              "  }\n",
              "\n",
              "  .colab-df-quickchart:hover {\n",
              "    background-color: var(--hover-bg-color);\n",
              "    box-shadow: 0 1px 2px rgba(60, 64, 67, 0.3), 0 1px 3px 1px rgba(60, 64, 67, 0.15);\n",
              "    fill: var(--button-hover-fill-color);\n",
              "  }\n",
              "\n",
              "  .colab-df-quickchart-complete:disabled,\n",
              "  .colab-df-quickchart-complete:disabled:hover {\n",
              "    background-color: var(--disabled-bg-color);\n",
              "    fill: var(--disabled-fill-color);\n",
              "    box-shadow: none;\n",
              "  }\n",
              "\n",
              "  .colab-df-spinner {\n",
              "    border: 2px solid var(--fill-color);\n",
              "    border-color: transparent;\n",
              "    border-bottom-color: var(--fill-color);\n",
              "    animation:\n",
              "      spin 1s steps(1) infinite;\n",
              "  }\n",
              "\n",
              "  @keyframes spin {\n",
              "    0% {\n",
              "      border-color: transparent;\n",
              "      border-bottom-color: var(--fill-color);\n",
              "      border-left-color: var(--fill-color);\n",
              "    }\n",
              "    20% {\n",
              "      border-color: transparent;\n",
              "      border-left-color: var(--fill-color);\n",
              "      border-top-color: var(--fill-color);\n",
              "    }\n",
              "    30% {\n",
              "      border-color: transparent;\n",
              "      border-left-color: var(--fill-color);\n",
              "      border-top-color: var(--fill-color);\n",
              "      border-right-color: var(--fill-color);\n",
              "    }\n",
              "    40% {\n",
              "      border-color: transparent;\n",
              "      border-right-color: var(--fill-color);\n",
              "      border-top-color: var(--fill-color);\n",
              "    }\n",
              "    60% {\n",
              "      border-color: transparent;\n",
              "      border-right-color: var(--fill-color);\n",
              "    }\n",
              "    80% {\n",
              "      border-color: transparent;\n",
              "      border-right-color: var(--fill-color);\n",
              "      border-bottom-color: var(--fill-color);\n",
              "    }\n",
              "    90% {\n",
              "      border-color: transparent;\n",
              "      border-bottom-color: var(--fill-color);\n",
              "    }\n",
              "  }\n",
              "</style>\n",
              "\n",
              "  <script>\n",
              "    async function quickchart(key) {\n",
              "      const quickchartButtonEl =\n",
              "        document.querySelector('#' + key + ' button');\n",
              "      quickchartButtonEl.disabled = true;  // To prevent multiple clicks.\n",
              "      quickchartButtonEl.classList.add('colab-df-spinner');\n",
              "      try {\n",
              "        const charts = await google.colab.kernel.invokeFunction(\n",
              "            'suggestCharts', [key], {});\n",
              "      } catch (error) {\n",
              "        console.error('Error during call to suggestCharts:', error);\n",
              "      }\n",
              "      quickchartButtonEl.classList.remove('colab-df-spinner');\n",
              "      quickchartButtonEl.classList.add('colab-df-quickchart-complete');\n",
              "    }\n",
              "    (() => {\n",
              "      let quickchartButtonEl =\n",
              "        document.querySelector('#df-1f9cb77b-c872-49a1-9835-924ba4b69cfd button');\n",
              "      quickchartButtonEl.style.display =\n",
              "        google.colab.kernel.accessAllowed ? 'block' : 'none';\n",
              "    })();\n",
              "  </script>\n",
              "</div>\n",
              "    </div>\n",
              "  </div>\n"
            ]
          },
          "metadata": {},
          "execution_count": 7
        }
      ],
      "source": [
        "df"
      ],
      "id": "ecb6e1a4-3934-45a3-baad-d6c5650c89d7"
    },
    {
      "cell_type": "code",
      "execution_count": null,
      "metadata": {
        "colab": {
          "base_uri": "https://localhost:8080/"
        },
        "id": "DhEzZxKgqn0D",
        "outputId": "09b1d1f7-8fef-4165-dde0-9454da8c9cc6"
      },
      "outputs": [
        {
          "output_type": "execute_result",
          "data": {
            "text/plain": [
              "array(['Paracetamol', 'Atorvastatin', 'Amlodipine', 'Amoxicillin',\n",
              "       'Cetrizine'], dtype=object)"
            ]
          },
          "metadata": {},
          "execution_count": 8
        }
      ],
      "source": [
        "df['drug_name'].unique()"
      ],
      "id": "DhEzZxKgqn0D"
    },
    {
      "cell_type": "code",
      "execution_count": null,
      "metadata": {
        "colab": {
          "base_uri": "https://localhost:8080/",
          "height": 430
        },
        "id": "hXeMB0FQo_T6",
        "outputId": "ddab49c3-175a-462e-a93c-094d9c9f3cb2"
      },
      "outputs": [
        {
          "output_type": "display_data",
          "data": {
            "text/plain": [
              "<Figure size 640x480 with 1 Axes>"
            ],
            "image/png": "[encoded data removed]"
          },
          "metadata": {}
        }
      ],
      "source": [
        "from matplotlib import pyplot as plt\n",
        "import seaborn as sns\n",
        "df.groupby('Filename').size().plot(kind='barh', color=sns.palettes.mpl_palette('Dark2'))\n",
        "plt.gca().spines[['top', 'right',]].set_visible(False)"
      ],
      "id": "hXeMB0FQo_T6"
    },
    {
      "cell_type": "code",
      "execution_count": null,
      "metadata": {
        "colab": {
          "base_uri": "https://localhost:8080/",
          "height": 452
        },
        "id": "9xu1uJqto8XQ",
        "outputId": "84c13374-9935-4c49-e5ce-8bf3e8eddc00"
      },
      "outputs": [
        {
          "output_type": "display_data",
          "data": {
            "text/plain": [
              "<Figure size 640x480 with 1 Axes>"
            ],
            "image/png": "[encoded data removed]"
          },
          "metadata": {}
        }
      ],
      "source": [
        "from matplotlib import pyplot as plt\n",
        "df['drug_name_label'].plot(kind='hist', bins=20, title='drug_name_label')\n",
        "plt.gca().spines[['top', 'right',]].set_visible(False)"
      ],
      "id": "9xu1uJqto8XQ"
    },
    {
      "cell_type": "markdown",
      "metadata": {
        "id": "16fd4118-c288-4242-859e-060fc10e91d8"
      },
      "source": [
        "# Model fitting and evaluation"
      ],
      "id": "16fd4118-c288-4242-859e-060fc10e91d8"
    },
    {
      "cell_type": "code",
      "execution_count": null,
      "metadata": {
        "id": "bbe9f6ae-ae63-4f92-89ac-2c8d1c1d223b"
      },
      "outputs": [],
      "source": [
        "# Convert images to NumPy arrays\n",
        "image_arrays = []\n",
        "for image in df['Image']:\n",
        "    image_array = np.array(image).reshape((600, 600, 1))\n",
        "    image_arrays.append(image_array)\n",
        "\n",
        "image_arrays = np.array(image_arrays)\n",
        "image_arrays = image_arrays.astype('float32') / 255.0"
      ],
      "id": "bbe9f6ae-ae63-4f92-89ac-2c8d1c1d223b"
    },
    {
      "cell_type": "code",
      "execution_count": null,
      "metadata": {
        "id": "0d2789b5-b8e1-4a74-b73b-0da3a39e078d"
      },
      "outputs": [],
      "source": [
        "x_train, x_test, y_train, y_test = train_test_split(image_arrays, df['drug_name_label'], test_size=0.2, random_state=42)"
      ],
      "id": "0d2789b5-b8e1-4a74-b73b-0da3a39e078d"
    },
    {
      "cell_type": "code",
      "execution_count": null,
      "metadata": {
        "colab": {
          "base_uri": "https://localhost:8080/"
        },
        "id": "b1b5a6d0-5ea7-46bd-987b-e1307e7bf0c9",
        "outputId": "9824d749-cfb8-4804-acd8-361ae17a2fe1"
      },
      "outputs": [
        {
          "output_type": "stream",
          "name": "stdout",
          "text": [
            "Epoch 1/6\n",
            "1/1 [==============================] - 12s 12s/step - loss: 1.6008 - accuracy: 0.3750\n",
            "Epoch 2/6\n",
            "1/1 [==============================] - 12s 12s/step - loss: 73.3085 - accuracy: 0.2500\n",
            "Epoch 3/6\n",
            "1/1 [==============================] - 15s 15s/step - loss: 103.2569 - accuracy: 0.2500\n",
            "Epoch 4/6\n",
            "1/1 [==============================] - 8s 8s/step - loss: 52.4927 - accuracy: 0.3750\n",
            "Epoch 5/6\n",
            "1/1 [==============================] - 11s 11s/step - loss: 40.1757 - accuracy: 0.2500\n",
            "Epoch 6/6\n",
            "1/1 [==============================] - 11s 11s/step - loss: 20.1374 - accuracy: 0.3750\n"
          ]
        },
        {
          "output_type": "execute_result",
          "data": {
            "text/plain": [
              "<keras.callbacks.History at 0x7fad21c5a320>"
            ]
          },
          "metadata": {},
          "execution_count": 24
        }
      ],
      "source": [
        "# Create the CNN model\n",
        "tf.keras.utils.set_random_seed(812)\n",
        "model = tf.keras.Sequential([\n",
        "    tf.keras.layers.Conv2D(32, (3, 3), activation='relu', input_shape=(600, 600, 1)),\n",
        "    tf.keras.layers.MaxPooling2D(pool_size=(2, 2)),\n",
        "    tf.keras.layers.Conv2D(64, (3, 3), activation='relu'),\n",
        "    tf.keras.layers.MaxPooling2D(pool_size=(2, 2)),\n",
        "    tf.keras.layers.Flatten(),\n",
        "    tf.keras.layers.Dense(128, activation='relu'),\n",
        "    tf.keras.layers.Dense(5, activation='softmax')\n",
        "])\n",
        "\n",
        "# Train the CNN model\n",
        "model.compile(optimizer='adam',\n",
        "              loss='sparse_categorical_crossentropy',\n",
        "              metrics=['accuracy'])\n",
        "\n",
        "model.fit(x_train, y_train, epochs=6)"
      ],
      "id": "b1b5a6d0-5ea7-46bd-987b-e1307e7bf0c9"
    },
    {
      "cell_type": "code",
      "execution_count": null,
      "metadata": {
        "colab": {
          "base_uri": "https://localhost:8080/"
        },
        "id": "ca18ac98-38ca-476e-9dbb-f3a4d0ca47b6",
        "outputId": "9fe50db8-be7b-40df-c567-9531db2c8c56"
      },
      "outputs": [
        {
          "output_type": "stream",
          "name": "stdout",
          "text": [
            "1/1 [==============================] - 1s 1s/step - loss: 19.2680 - accuracy: 0.5000\n",
            "Test accuracy: 0.5\n"
          ]
        }
      ],
      "source": [
        "# Evaluate the model on the test set\n",
        "test_loss, test_acc = model.evaluate(image_arrays[y_test], y_test)\n",
        "print('Test accuracy:', test_acc)"
      ],
      "id": "ca18ac98-38ca-476e-9dbb-f3a4d0ca47b6"
    },
    {
      "cell_type": "code",
      "execution_count": null,
      "metadata": {
        "colab": {
          "base_uri": "https://localhost:8080/"
        },
        "id": "b8eaa36b-a4cf-47b7-ad72-2d4b11d68eab",
        "outputId": "c2668079-50bd-483e-9e9e-87592f216813"
      },
      "outputs": [
        {
          "output_type": "stream",
          "name": "stdout",
          "text": [
            "1/1 [==============================] - 1s 588ms/step\n"
          ]
        }
      ],
      "source": [
        "# Make predictions on the test set\n",
        "y_pred = model.predict(image_arrays[y_test])"
      ],
      "id": "b8eaa36b-a4cf-47b7-ad72-2d4b11d68eab"
    },
    {
      "cell_type": "code",
      "execution_count": null,
      "metadata": {
        "id": "1a20e60f-785a-4c72-bdc2-e664e948a076"
      },
      "outputs": [],
      "source": [
        "# Convert predictions to class labels\n",
        "y_predic = []\n",
        "for i in y_pred:\n",
        "    y_predic.append(list(i).index(max(i)))"
      ],
      "id": "1a20e60f-785a-4c72-bdc2-e664e948a076"
    },
    {
      "cell_type": "code",
      "execution_count": null,
      "metadata": {
        "colab": {
          "base_uri": "https://localhost:8080/"
        },
        "id": "d687b102-37b0-4b50-897c-ee6ee9044c7f",
        "outputId": "31421bca-c1a9-4940-9c79-9811dea3f33e"
      },
      "outputs": [
        {
          "output_type": "stream",
          "name": "stdout",
          "text": [
            "              precision    recall  f1-score   support\n",
            "\n",
            "           1       0.00      0.00      0.00         1\n",
            "           4       0.50      1.00      0.67         1\n",
            "\n",
            "    accuracy                           0.50         2\n",
            "   macro avg       0.25      0.50      0.33         2\n",
            "weighted avg       0.25      0.50      0.33         2\n",
            "\n"
          ]
        }
      ],
      "source": [
        "# Evaluate the model's performance\n",
        "print(classification_report(y_test, y_predic))"
      ],
      "id": "d687b102-37b0-4b50-897c-ee6ee9044c7f"
    },
    {
      "cell_type": "markdown",
      "metadata": {
        "id": "4d336d10-e93f-4ba6-8ede-506e84bb9213"
      },
      "source": [
        "# Recommendations"
      ],
      "id": "4d336d10-e93f-4ba6-8ede-506e84bb9213"
    },
    {
      "cell_type": "code",
      "execution_count": null,
      "metadata": {
        "colab": {
          "base_uri": "https://localhost:8080/",
          "height": 206
        },
        "id": "a-ovt91Jr8B_",
        "outputId": "bda7ac1e-7b8d-4ec4-df04-e1bc4d628129"
      },
      "outputs": [
        {
          "output_type": "execute_result",
          "data": {
            "text/plain": [
              "           name      dosage  \\\n",
              "0   Paracetamol  325-650 mg   \n",
              "1    Cetirizine     5-10 mg   \n",
              "2  Atorvastatin    10-80 mg   \n",
              "3    Amlodipine   2.5-10 mg   \n",
              "4   Amoxicillin  500-875 mg   \n",
              "\n",
              "                                               usage  \\\n",
              "0  Take 1-2 tablets every 4-6 hours for pain/feve...   \n",
              "1  Take 1 tablet daily for allergy relief. Can ca...   \n",
              "2  Take 1 tablet daily with evening meal to lower...   \n",
              "3  Take 1 tablet daily to lower blood pressure. D...   \n",
              "4  Take 1 capsule 2-3 times daily for 5-7 days to...   \n",
              "\n",
              "                                        side_effects  \n",
              "0               liver damage, nausea, vomiting, rash  \n",
              "1       drowsiness, dry mouth, fatigue, stomach pain  \n",
              "2  muscle pain, liver dysfunction, digestive issu...  \n",
              "3           swelling, dizziness, flushing, headaches  \n",
              "4             nausea, diarrhea, abdominal pain, rash  "
            ],
            "text/html": [
              "\n",
              "  <div id=\"df-4f5d39f6-b776-4ce3-a84a-8c05788f2704\" class=\"colab-df-container\">\n",
              "    <div>\n",
              "<style scoped>\n",
              "    .dataframe tbody tr th:only-of-type {\n",
              "        vertical-align: middle;\n",
              "    }\n",
              "\n",
              "    .dataframe tbody tr th {\n",
              "        vertical-align: top;\n",
              "    }\n",
              "\n",
              "    .dataframe thead th {\n",
              "        text-align: right;\n",
              "    }\n",
              "</style>\n",
              "<table border=\"1\" class=\"dataframe\">\n",
              "  <thead>\n",
              "    <tr style=\"text-align: right;\">\n",
              "      <th></th>\n",
              "      <th>name</th>\n",
              "      <th>dosage</th>\n",
              "      <th>usage</th>\n",
              "      <th>side_effects</th>\n",
              "    </tr>\n",
              "  </thead>\n",
              "  <tbody>\n",
              "    <tr>\n",
              "      <th>0</th>\n",
              "      <td>Paracetamol</td>\n",
              "      <td>325-650 mg</td>\n",
              "      <td>Take 1-2 tablets every 4-6 hours for pain/feve...</td>\n",
              "      <td>liver damage, nausea, vomiting, rash</td>\n",
              "    </tr>\n",
              "    <tr>\n",
              "      <th>1</th>\n",
              "      <td>Cetirizine</td>\n",
              "      <td>5-10 mg</td>\n",
              "      <td>Take 1 tablet daily for allergy relief. Can ca...</td>\n",
              "      <td>drowsiness, dry mouth, fatigue, stomach pain</td>\n",
              "    </tr>\n",
              "    <tr>\n",
              "      <th>2</th>\n",
              "      <td>Atorvastatin</td>\n",
              "      <td>10-80 mg</td>\n",
              "      <td>Take 1 tablet daily with evening meal to lower...</td>\n",
              "      <td>muscle pain, liver dysfunction, digestive issu...</td>\n",
              "    </tr>\n",
              "    <tr>\n",
              "      <th>3</th>\n",
              "      <td>Amlodipine</td>\n",
              "      <td>2.5-10 mg</td>\n",
              "      <td>Take 1 tablet daily to lower blood pressure. D...</td>\n",
              "      <td>swelling, dizziness, flushing, headaches</td>\n",
              "    </tr>\n",
              "    <tr>\n",
              "      <th>4</th>\n",
              "      <td>Amoxicillin</td>\n",
              "      <td>500-875 mg</td>\n",
              "      <td>Take 1 capsule 2-3 times daily for 5-7 days to...</td>\n",
              "      <td>nausea, diarrhea, abdominal pain, rash</td>\n",
              "    </tr>\n",
              "  </tbody>\n",
              "</table>\n",
              "</div>\n",
              "    <div class=\"colab-df-buttons\">\n",
              "\n",
              "  <div class=\"colab-df-container\">\n",
              "    <button class=\"colab-df-convert\" onclick=\"convertToInteractive('df-4f5d39f6-b776-4ce3-a84a-8c05788f2704')\"\n",
              "            title=\"Convert this dataframe to an interactive table.\"\n",
              "            style=\"display:none;\">\n",
              "\n",
              "  <svg xmlns=\"http://www.w3.org/2000/svg\" height=\"24px\" viewBox=\"0 -960 960 960\">\n",
              "    <path d=\"M120-120v-720h720v720H120Zm60-500h600v-160H180v160Zm220 220h160v-160H400v160Zm0 220h160v-160H400v160ZM180-400h160v-160H180v160Zm440 0h160v-160H620v160ZM180-180h160v-160H180v160Zm440 0h160v-160H620v160Z\"/>\n",
              "  </svg>\n",
              "    </button>\n",
              "\n",
              "  <style>\n",
              "    .colab-df-container {\n",
              "      display:flex;\n",
              "      gap: 12px;\n",
              "    }\n",
              "\n",
              "    .colab-df-convert {\n",
              "      background-color: #E8F0FE;\n",
              "      border: none;\n",
              "      border-radius: 50%;\n",
              "      cursor: pointer;\n",
              "      display: none;\n",
              "      fill: #1967D2;\n",
              "      height: 32px;\n",
              "      padding: 0 0 0 0;\n",
              "      width: 32px;\n",
              "    }\n",
              "\n",
              "    .colab-df-convert:hover {\n",
              "      background-color: #E2EBFA;\n",
              "      box-shadow: 0px 1px 2px rgba(60, 64, 67, 0.3), 0px 1px 3px 1px rgba(60, 64, 67, 0.15);\n",
              "      fill: #174EA6;\n",
              "    }\n",
              "\n",
              "    .colab-df-buttons div {\n",
              "      margin-bottom: 4px;\n",
              "    }\n",
              "\n",
              "    [theme=dark] .colab-df-convert {\n",
              "      background-color: #3B4455;\n",
              "      fill: #D2E3FC;\n",
              "    }\n",
              "\n",
              "    [theme=dark] .colab-df-convert:hover {\n",
              "      background-color: #434B5C;\n",
              "      box-shadow: 0px 1px 3px 1px rgba(0, 0, 0, 0.15);\n",
              "      filter: drop-shadow(0px 1px 2px rgba(0, 0, 0, 0.3));\n",
              "      fill: #FFFFFF;\n",
              "    }\n",
              "  </style>\n",
              "\n",
              "    <script>\n",
              "      const buttonEl =\n",
              "        document.querySelector('#df-4f5d39f6-b776-4ce3-a84a-8c05788f2704 button.colab-df-convert');\n",
              "      buttonEl.style.display =\n",
              "        google.colab.kernel.accessAllowed ? 'block' : 'none';\n",
              "\n",
              "      async function convertToInteractive(key) {\n",
              "        const element = document.querySelector('#df-4f5d39f6-b776-4ce3-a84a-8c05788f2704');\n",
              "        const dataTable =\n",
              "          await google.colab.kernel.invokeFunction('convertToInteractive',\n",
              "                                                    [key], {});\n",
              "        if (!dataTable) return;\n",
              "\n",
              "        const docLinkHtml = 'Like what you see? Visit the ' +\n",
              "          '<a target=\"_blank\" href=https://colab.research.google.com/notebooks/data_table.ipynb>data table notebook</a>'\n",
              "          + ' to learn more about interactive tables.';\n",
              "        element.innerHTML = '';\n",
              "        dataTable['output_type'] = 'display_data';\n",
              "        await google.colab.output.renderOutput(dataTable, element);\n",
              "        const docLink = document.createElement('div');\n",
              "        docLink.innerHTML = docLinkHtml;\n",
              "        element.appendChild(docLink);\n",
              "      }\n",
              "    </script>\n",
              "  </div>\n",
              "\n",
              "\n",
              "<div id=\"df-ac6ba784-6938-4450-aba9-1c105f1b47fb\">\n",
              "  <button class=\"colab-df-quickchart\" onclick=\"quickchart('df-ac6ba784-6938-4450-aba9-1c105f1b47fb')\"\n",
              "            title=\"Suggest charts\"\n",
              "            style=\"display:none;\">\n",
              "\n",
              "<svg xmlns=\"http://www.w3.org/2000/svg\" height=\"24px\"viewBox=\"0 0 24 24\"\n",
              "     width=\"24px\">\n",
              "    <g>\n",
              "        <path d=\"M19 3H5c-1.1 0-2 .9-2 2v14c0 1.1.9 2 2 2h14c1.1 0 2-.9 2-2V5c0-1.1-.9-2-2-2zM9 17H7v-7h2v7zm4 0h-2V7h2v10zm4 0h-2v-4h2v4z\"/>\n",
              "    </g>\n",
              "</svg>\n",
              "  </button>\n",
              "\n",
              "<style>\n",
              "  .colab-df-quickchart {\n",
              "      --bg-color: #E8F0FE;\n",
              "      --fill-color: #1967D2;\n",
              "      --hover-bg-color: #E2EBFA;\n",
              "      --hover-fill-color: #174EA6;\n",
              "      --disabled-fill-color: #AAA;\n",
              "      --disabled-bg-color: #DDD;\n",
              "  }\n",
              "\n",
              "  [theme=dark] .colab-df-quickchart {\n",
              "      --bg-color: #3B4455;\n",
              "      --fill-color: #D2E3FC;\n",
              "      --hover-bg-color: #434B5C;\n",
              "      --hover-fill-color: #FFFFFF;\n",
              "      --disabled-bg-color: #3B4455;\n",
              "      --disabled-fill-color: #666;\n",
              "  }\n",
              "\n",
              "  .colab-df-quickchart {\n",
              "    background-color: var(--bg-color);\n",
              "    border: none;\n",
              "    border-radius: 50%;\n",
              "    cursor: pointer;\n",
              "    display: none;\n",
              "    fill: var(--fill-color);\n",
              "    height: 32px;\n",
              "    padding: 0;\n",
              "    width: 32px;\n",
              "  }\n",
              "\n",
              "  .colab-df-quickchart:hover {\n",
              "    background-color: var(--hover-bg-color);\n",
              "    box-shadow: 0 1px 2px rgba(60, 64, 67, 0.3), 0 1px 3px 1px rgba(60, 64, 67, 0.15);\n",
              "    fill: var(--button-hover-fill-color);\n",
              "  }\n",
              "\n",
              "  .colab-df-quickchart-complete:disabled,\n",
              "  .colab-df-quickchart-complete:disabled:hover {\n",
              "    background-color: var(--disabled-bg-color);\n",
              "    fill: var(--disabled-fill-color);\n",
              "    box-shadow: none;\n",
              "  }\n",
              "\n",
              "  .colab-df-spinner {\n",
              "    border: 2px solid var(--fill-color);\n",
              "    border-color: transparent;\n",
              "    border-bottom-color: var(--fill-color);\n",
              "    animation:\n",
              "      spin 1s steps(1) infinite;\n",
              "  }\n",
              "\n",
              "  @keyframes spin {\n",
              "    0% {\n",
              "      border-color: transparent;\n",
              "      border-bottom-color: var(--fill-color);\n",
              "      border-left-color: var(--fill-color);\n",
              "    }\n",
              "    20% {\n",
              "      border-color: transparent;\n",
              "      border-left-color: var(--fill-color);\n",
              "      border-top-color: var(--fill-color);\n",
              "    }\n",
              "    30% {\n",
              "      border-color: transparent;\n",
              "      border-left-color: var(--fill-color);\n",
              "      border-top-color: var(--fill-color);\n",
              "      border-right-color: var(--fill-color);\n",
              "    }\n",
              "    40% {\n",
              "      border-color: transparent;\n",
              "      border-right-color: var(--fill-color);\n",
              "      border-top-color: var(--fill-color);\n",
              "    }\n",
              "    60% {\n",
              "      border-color: transparent;\n",
              "      border-right-color: var(--fill-color);\n",
              "    }\n",
              "    80% {\n",
              "      border-color: transparent;\n",
              "      border-right-color: var(--fill-color);\n",
              "      border-bottom-color: var(--fill-color);\n",
              "    }\n",
              "    90% {\n",
              "      border-color: transparent;\n",
              "      border-bottom-color: var(--fill-color);\n",
              "    }\n",
              "  }\n",
              "</style>\n",
              "\n",
              "  <script>\n",
              "    async function quickchart(key) {\n",
              "      const quickchartButtonEl =\n",
              "        document.querySelector('#' + key + ' button');\n",
              "      quickchartButtonEl.disabled = true;  // To prevent multiple clicks.\n",
              "      quickchartButtonEl.classList.add('colab-df-spinner');\n",
              "      try {\n",
              "        const charts = await google.colab.kernel.invokeFunction(\n",
              "            'suggestCharts', [key], {});\n",
              "      } catch (error) {\n",
              "        console.error('Error during call to suggestCharts:', error);\n",
              "      }\n",
              "      quickchartButtonEl.classList.remove('colab-df-spinner');\n",
              "      quickchartButtonEl.classList.add('colab-df-quickchart-complete');\n",
              "    }\n",
              "    (() => {\n",
              "      let quickchartButtonEl =\n",
              "        document.querySelector('#df-ac6ba784-6938-4450-aba9-1c105f1b47fb button');\n",
              "      quickchartButtonEl.style.display =\n",
              "        google.colab.kernel.accessAllowed ? 'block' : 'none';\n",
              "    })();\n",
              "  </script>\n",
              "</div>\n",
              "    </div>\n",
              "  </div>\n"
            ]
          },
          "metadata": {},
          "execution_count": 18
        }
      ],
      "source": [
        "medicine_data = pd.read_excel(\"/content/drive/MyDrive/Mediscan/medicine.xlsx\")\n",
        "medicine_data.head()"
      ],
      "id": "a-ovt91Jr8B_"
    },
    {
      "cell_type": "code",
      "execution_count": null,
      "metadata": {
        "colab": {
          "base_uri": "https://localhost:8080/"
        },
        "id": "cf11zFjzsPan",
        "outputId": "6a2f64ef-1888-41a4-bc30-3585c0ef114d"
      },
      "outputs": [
        {
          "output_type": "stream",
          "name": "stdout",
          "text": [
            "<PIL.JpegImagePlugin.JpegImageFile image mode=RGB size=114x62 at 0x7FAD225A90F0>\n"
          ]
        }
      ],
      "source": [
        "image = Image.open(\"/content/drive/MyDrive/Mediscan/Main_imagess/Atorvastatin_1.jpg\")\n",
        "image.show(image)\n",
        "print(image)"
      ],
      "id": "cf11zFjzsPan"
    },
    {
      "cell_type": "code",
      "execution_count": null,
      "metadata": {
        "colab": {
          "base_uri": "https://localhost:8080/"
        },
        "id": "JqS338H9sPxX",
        "outputId": "6c81b89f-3262-4a74-dade-ba33a888998b"
      },
      "outputs": [
        {
          "output_type": "stream",
          "name": "stdout",
          "text": [
            "(600, 600, 1)\n"
          ]
        }
      ],
      "source": [
        "image = tf.keras.preprocessing.image.img_to_array(image)\n",
        "image = tf.image.resize(image, (400, 300))\n",
        "image = image / 255.0\n",
        "image_array = np.array(image).reshape((600, 600, 1))\n",
        "print(image_array.shape)\n",
        "image_array = tf.expand_dims(image_array, axis=0)"
      ],
      "id": "JqS338H9sPxX"
    },
    {
      "cell_type": "code",
      "execution_count": null,
      "metadata": {
        "colab": {
          "base_uri": "https://localhost:8080/"
        },
        "id": "qkexaRUTsP9f",
        "outputId": "f10d5f08-cb1f-4cc6-ea57-520a0a876d62"
      },
      "outputs": [
        {
          "output_type": "stream",
          "name": "stdout",
          "text": [
            "1/1 [==============================] - 0s 319ms/step\n",
            "[[1.4207380e-09 2.0834672e-19 2.7089316e-17 2.6979169e-10 1.0000000e+00]]\n"
          ]
        }
      ],
      "source": [
        "result =  model.predict(image_array)\n",
        "print(result)"
      ],
      "id": "qkexaRUTsP9f"
    },
    {
      "cell_type": "code",
      "execution_count": null,
      "metadata": {
        "colab": {
          "base_uri": "https://localhost:8080/"
        },
        "id": "AYiE1P8rqx7b",
        "outputId": "3ad75741-dce3-44ce-b77c-109a27057d7d"
      },
      "outputs": [
        {
          "output_type": "stream",
          "name": "stdout",
          "text": [
            "Paracetamol\n"
          ]
        }
      ],
      "source": [
        "result = np.argmax(result)\n",
        "drug_dictionary = {0:\"Amlodipine\" , 1:\"Amoxicillin\t\" , 2:\"Atorvastatin\" , 3:\"Cetirizine\" , 4:\"Paracetamol\"}\n",
        "predicted_drug = drug_dictionary[result]\n",
        "print(predicted_drug)"
      ],
      "id": "AYiE1P8rqx7b"
    },
    {
      "cell_type": "markdown",
      "metadata": {
        "id": "8e017175-83ee-43b7-ab34-5256b3a84f76"
      },
      "source": [
        "# Result"
      ],
      "id": "8e017175-83ee-43b7-ab34-5256b3a84f76"
    },
    {
      "cell_type": "code",
      "execution_count": null,
      "metadata": {
        "colab": {
          "base_uri": "https://localhost:8080/"
        },
        "id": "10b777c9-fc28-4800-80cc-645c7746c58b",
        "scrolled": true,
        "outputId": "6f62f270-cfe7-48c1-ca1f-d301b50f810e"
      },
      "outputs": [
        {
          "output_type": "stream",
          "name": "stdout",
          "text": [
            "The given drug is Paracetamol advised dosage is 325-650 mg ,you need to take  Take 1-2 tablets every 4-6 hours for pain/fever relief. Do not exceed 4000 mg per day.\n",
            "Possible side effects are liver damage, nausea, vomiting, rash so do not use without doctor consolt be safe!\n"
          ]
        }
      ],
      "source": [
        "try:\n",
        "  result = medicine_data.where(medicine_data['name'] == predicted_drug ).dropna()\n",
        "  print(f\"The given drug is {result['name'].values[0]} advised dosage is {result['dosage'].values[0]} ,you need to take  {result['usage'].values[0]}\\nPossible side effects are {result['side_effects'].values[0]} so do not use without doctor consolt be safe!\")\n",
        "except :\n",
        "  print(\"The predicted drug does not exist in the medicine_data DataFrame\")\n"
      ],
      "id": "10b777c9-fc28-4800-80cc-645c7746c58b"
    }
  ],
  "metadata": {
    "accelerator": "TPU",
    "colab": {
      "provenance": [],
      "include_colab_link": true
    },
    "kernelspec": {
      "display_name": "Python 3",
      "name": "python3"
    },
    "language_info": {
      "codemirror_mode": {
        "name": "ipython",
        "version": 3
      },
      "file_extension": ".py",
      "mimetype": "text/x-python",
      "name": "python",
      "nbconvert_exporter": "python",
      "pygments_lexer": "ipython3",
      "version": "3.11.5"
    }
  },
  "nbformat": 4,
  "nbformat_minor": 5
}